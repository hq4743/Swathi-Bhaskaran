{
 "cells": [
  {
   "cell_type": "markdown",
   "metadata": {
    "id": "7K84b_WrR7X1"
   },
   "source": [
    "# EV Charger Finder\n"
   ]
  },
  {
   "cell_type": "markdown",
   "metadata": {
    "id": "X3tCGO08R2W2"
   },
   "source": [
    "## Installs"
   ]
  },
  {
   "cell_type": "code",
   "execution_count": null,
   "metadata": {
    "id": "49Igz7j1tNa3"
   },
   "outputs": [],
   "source": [
    "!pip install haversine\n",
    "!pip install pandas"
   ]
  },
  {
   "cell_type": "markdown",
   "metadata": {
    "id": "6d8pbE12RurY"
   },
   "source": [
    "## Imports"
   ]
  },
  {
   "cell_type": "code",
   "execution_count": null,
   "metadata": {
    "id": "_t-DdKCURiCM"
   },
   "outputs": [],
   "source": [
    "import pandas as pd\n",
    "from haversine import haversine, Unit\n",
    "import requests"
   ]
  },
  {
   "cell_type": "markdown",
   "metadata": {
    "id": "dQLSsLewSHkl"
   },
   "source": [
    "## Data Set"
   ]
  },
  {
   "cell_type": "code",
   "execution_count": null,
   "metadata": {
    "id": "L2q3gD34mxWd",
    "scrolled": true
   },
   "outputs": [],
   "source": [
    "file_path = ''\n",
    "df = pd.read_csv(file_path)"
   ]
  },
  {
   "cell_type": "code",
   "execution_count": null,
   "metadata": {},
   "outputs": [],
   "source": [
    "file_path = ''\n",
    "df = pd.read_excel(file_path)"
   ]
  },
  {
   "cell_type": "code",
   "execution_count": null,
   "metadata": {},
   "outputs": [],
   "source": [
    "df['Address'] = df.apply(lambda row: f\"{row['Street Address']}, {row['City']}, {row['State']} {row['ZIP']}\", axis=1)\n",
    "df = df.drop(columns=['Street Address', 'City', 'State', 'ZIP'])"
   ]
  },
  {
   "cell_type": "code",
   "execution_count": null,
   "metadata": {
    "scrolled": true
   },
   "outputs": [],
   "source": [
    "df[\"EV Connector Types\"].unique()"
   ]
  },
  {
   "cell_type": "code",
   "execution_count": null,
   "metadata": {},
   "outputs": [],
   "source": [
    "df.to_csv(\"\",index=False)"
   ]
  },
  {
   "cell_type": "code",
   "execution_count": null,
   "metadata": {},
   "outputs": [],
   "source": [
    "df.columns.tolist()"
   ]
  },
  {
   "cell_type": "code",
   "execution_count": null,
   "metadata": {
    "id": "rpoNAdwosHH6"
   },
   "outputs": [],
   "source": [
    "# Let's get all the column names to identify the ones for latitude, longitude, and EV connector types\n",
    "column_names = df.columns.tolist()\n",
    "column_names"
   ]
  },
  {
   "cell_type": "markdown",
   "metadata": {
    "id": "YiaO-fhJSR2b"
   },
   "source": [
    "## Haversine Distance Calculation"
   ]
  },
  {
   "cell_type": "code",
   "execution_count": null,
   "metadata": {
    "id": "UsSiH7fgs2xG"
   },
   "outputs": [],
   "source": [
    "# Assuming 'Groups With Access Code' might contain connector type information\n",
    "# For the purpose of this example, let's filter stations that are accessible to the public, as a placeholder\n",
    "# for actual connector type matching (which would require the appropriate column)\n",
    "\n",
    "s_lat = 42.3528049\n",
    "s_lng = -83.0642518\n",
    "\n",
    "\n",
    "# Filter for public stations as a placeholder for connector type filtering\n",
    "public_stations = df[df['Groups With Access Code'].str.contains('Public', na=False)]\n",
    "\n",
    "# Example user input for their current location (s_lat, s_lng)\n",
    "user_location = (s_lat, s_lng)  # Example: Downtown Los Angeles, CA\n",
    "\n",
    "# Function to calculate distance between two points\n",
    "def calculate_distance(user_loc, station_loc):\n",
    "    return haversine(user_loc, station_loc, unit=Unit.MILES)\n",
    "\n",
    "# Add a new column 'Distance' to the dataframe by applying the calculate_distance function\n",
    "public_stations['Distance'] = public_stations.apply(\n",
    "    lambda row: calculate_distance(user_location, (row['Latitude'], row['Longitude'])), axis=1\n",
    ")\n",
    "\n",
    "# Sort the dataframe by the new 'Distance' column to find the nearest station\n",
    "nearest_stations = public_stations.sort_values(by='Distance')\n",
    "\n",
    "# Display the top 5 nearest stations\n",
    "nearest_stations[['Station Name', 'Street Address', 'City', 'State', 'ZIP', 'Latitude','Longitude','Distance','EV Connector Types']].head(5)"
   ]
  },
  {
   "cell_type": "code",
   "execution_count": null,
   "metadata": {},
   "outputs": [],
   "source": [
    "res = nearest_stations[['Station Name', 'Street Address', 'City', 'State', 'ZIP', 'Latitude','Longitude','Distance','EV Connector Types']].head(5)\n",
    "res['Address'] = nearest_stations.apply(lambda row: f\"{row['Street Address']}, {row['City']}, {row['State']} {row['ZIP']}\", axis=1)\n",
    "res = res.drop(columns=['Street Address', 'City', 'State', 'ZIP'])\n",
    "res = res.reset_index(drop=True)"
   ]
  },
  {
   "cell_type": "code",
   "execution_count": null,
   "metadata": {},
   "outputs": [],
   "source": [
    "res"
   ]
  },
  {
   "cell_type": "markdown",
   "metadata": {
    "id": "3PrYVCcntttW"
   },
   "source": [
    "## OSRM API Testing"
   ]
  },
  {
   "cell_type": "code",
   "execution_count": null,
   "metadata": {},
   "outputs": [],
   "source": [
    "lat_lng_list = res[['Latitude', 'Longitude']].itertuples(index=False, name=None)\n",
    "\n",
    "q_string = ';'.join([f\"{lng},{lat}\" for lat, lng in lat_lng_list])\n",
    "url = f\"http://router.project-osrm.org/table/v1/driving/{float(s_lng)},{float(s_lat)};{q_string}?sources=0&annotations=duration,distance\""
   ]
  },
  {
   "cell_type": "code",
   "execution_count": null,
   "metadata": {
    "id": "dk7_wKbdU3-9"
   },
   "outputs": [],
   "source": [
    "url"
   ]
  },
  {
   "cell_type": "code",
   "execution_count": null,
   "metadata": {
    "id": "YIqkiYkgcB2s"
   },
   "outputs": [],
   "source": [
    "r = requests.get(url)\n",
    "response = r.json()\n",
    "res['Duration'] = response['durations'][0][1:]\n",
    "res['Distance'] = response['distances'][0][1:]"
   ]
  },
  {
   "cell_type": "code",
   "execution_count": null,
   "metadata": {},
   "outputs": [],
   "source": [
    "res"
   ]
  },
  {
   "cell_type": "code",
   "execution_count": null,
   "metadata": {},
   "outputs": [],
   "source": [
    "res = res.sort_values(by=\"Duration\").reset_index(drop=True)"
   ]
  },
  {
   "cell_type": "code",
   "execution_count": null,
   "metadata": {},
   "outputs": [],
   "source": [
    "def convert_seconds_to_hms(seconds):\n",
    "  hours = seconds // 3600\n",
    "  seconds %= 3600\n",
    "  minutes = seconds // 60\n",
    "  seconds %= 60\n",
    "\n",
    "  if hours > 0:\n",
    "    return f\"{hours:.0f} hr {minutes:.0f} min\"\n",
    "  elif minutes > 0:\n",
    "    return f\"{minutes:.0f} min\"\n",
    "  else:\n",
    "    return f\"1 min\"\n",
    "\n",
    "# Example usage\n",
    "duration_in_seconds = 12345\n",
    "duration_string = convert_seconds_to_hms(duration_in_seconds)\n",
    "print(f\"{duration_string}\")"
   ]
  },
  {
   "cell_type": "code",
   "execution_count": null,
   "metadata": {
    "scrolled": true
   },
   "outputs": [],
   "source": [
    "res[\"Duration\"] = res[\"Duration\"].apply(lambda dur:convert_seconds_to_hms(dur))"
   ]
  },
  {
   "cell_type": "code",
   "execution_count": null,
   "metadata": {},
   "outputs": [],
   "source": [
    "def meters_to_miles(meters):\n",
    "  miles = meters / 1609.34\n",
    "  return miles\n",
    "\n",
    "# Example usage\n",
    "distance_in_meters = 1000\n",
    "distance_in_miles = meters_to_miles(distance_in_meters)\n",
    "print(f\"{distance_in_meters} meters is equal to {distance_in_miles:.2f} miles.\")"
   ]
  },
  {
   "cell_type": "code",
   "execution_count": null,
   "metadata": {},
   "outputs": [],
   "source": [
    "res[\"Distance\"] = res[\"Distance\"].apply(lambda dis:f\"{round(meters_to_miles(dis),2)} miles\")"
   ]
  },
  {
   "cell_type": "code",
   "execution_count": null,
   "metadata": {},
   "outputs": [],
   "source": [
    "res"
   ]
  },
  {
   "cell_type": "code",
   "execution_count": null,
   "metadata": {},
   "outputs": [],
   "source": [
    "res[\"URL\"] = res.apply(lambda row: f\"https://www.google.com/maps/dir/?api=1&origin={float(s_lat)},{float(s_lng)}&destination={row[\"Latitude\"]},{row[\"Longitude\"]}&travelmode=driving&dir_action=navigate\",axis=1)"
   ]
  },
  {
   "cell_type": "code",
   "execution_count": null,
   "metadata": {},
   "outputs": [],
   "source": [
    "res = res.drop(columns=['Latitude', 'Longitude'])"
   ]
  },
  {
   "cell_type": "code",
   "execution_count": null,
   "metadata": {},
   "outputs": [],
   "source": [
    "res"
   ]
  },
  {
   "cell_type": "code",
   "execution_count": null,
   "metadata": {},
   "outputs": [],
   "source": [
    "stations = res.to_dict(orient='records')"
   ]
  },
  {
   "cell_type": "code",
   "execution_count": null,
   "metadata": {},
   "outputs": [],
   "source": [
    "stations"
   ]
  }
 ],
 "metadata": {
  "colab": {
   "collapsed_sections": [
    "X3tCGO08R2W2",
    "6d8pbE12RurY",
    "dQLSsLewSHkl"
   ],
   "provenance": []
  },
  "kernelspec": {
   "display_name": "Python 3 (ipykernel)",
   "language": "python",
   "name": "python3"
  },
  "language_info": {
   "codemirror_mode": {
    "name": "ipython",
    "version": 3
   },
   "file_extension": ".py",
   "mimetype": "text/x-python",
   "name": "python",
   "nbconvert_exporter": "python",
   "pygments_lexer": "ipython3",
   "version": "3.12.0"
  }
 },
 "nbformat": 4,
 "nbformat_minor": 4
}
